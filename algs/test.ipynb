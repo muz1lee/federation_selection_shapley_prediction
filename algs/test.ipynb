{
 "cells": [
  {
   "cell_type": "code",
   "execution_count": 7,
   "metadata": {},
   "outputs": [],
   "source": [
    "import sys\n",
    "sys.path.append(\"/home/xuyc/projects/fedvar_inc\")\n",
    "# import code_tools as co "
   ]
  },
  {
   "cell_type": "code",
   "execution_count": 51,
   "metadata": {},
   "outputs": [],
   "source": [
    "import os\n",
    "import re\n",
    "import sys\n",
    "from shutil import copy2\n",
    "\n",
    "def backup_code(src_dir, to_dir):\n",
    "    ignore_dir_keywords = ['.vscode', '__pycache__', '.git', 'wandb', '.ipynb_checkpoints', \n",
    "                           '.pdf', '.csv','.gif','.npy']\n",
    "    pattern_list = [re.compile(r'{}'.format(keyword)) for keyword in ignore_dir_keywords]\n",
    "    \n",
    "    def is_ignore(path, pattern_list):\n",
    "        for pattern in pattern_list:\n",
    "            if pattern.search(path) is not None:\n",
    "                return True\n",
    "        return False\n",
    "    def path_generater(src_dir, pattern_list):\n",
    "        for root, dir, files in os.walk(src_dir):\n",
    "            for file in files:\n",
    "                if not is_ignore(os.path.join(root, file), pattern_list):\n",
    "                    yield os.path.join(root, file)\n",
    "\n",
    "    for path in path_generater(src_dir, pattern_list):\n",
    "        if os.path.getsize(path) / float(1024*1024) >= 1:\n",
    "            print(f\"Warning {path_new} > 1 MB\")\n",
    "        path_new = os.path.join(to_dir, path.replace(src_dir, ''))\n",
    "        dir_new = os.path.dirname(path_new)\n",
    "        if not os.path.exists(dir_new):\n",
    "            os.makedirs(dir_new)\n",
    "        # print(path_new)\n",
    "        copy2(src=path, dst=path_new)\n"
   ]
  },
  {
   "cell_type": "code",
   "execution_count": 52,
   "metadata": {},
   "outputs": [],
   "source": [
    "backup_code(\"/home/xuyc/projects/fedvar_inc/\", '/home/xuyc/drawer/exp1.7.x_submit/111')"
   ]
  },
  {
   "attachments": {},
   "cell_type": "markdown",
   "metadata": {},
   "source": [
    "## Compare data_split.pkl "
   ]
  },
  {
   "attachments": {},
   "cell_type": "markdown",
   "metadata": {},
   "source": [
    "Description: the record of d_old is (pre_dict_frequency_classes, dict_train, dict_test)\n",
    "Here verifys dict_users are same. "
   ]
  },
  {
   "cell_type": "code",
   "execution_count": 2,
   "metadata": {},
   "outputs": [],
   "source": [
    "import sys\n",
    "sys.path.append(\"/data/xuyc/projects/fedvar_inc\")\n",
    "from global_tools import load_pkl"
   ]
  },
  {
   "cell_type": "code",
   "execution_count": 3,
   "metadata": {},
   "outputs": [],
   "source": [
    "d_new = load_pkl(\"/data/xuyc/save/FedVar/exp1.7.4_pretrain_cifar20/cifar20_dFr1.0_nUs10_dir10.00_f1.0_e1_lEp1_s1/dict_users.pkl\")\n",
    "d_old = load_pkl(\"/data/xuyc/save/FedVar/exp1.7.x_submit/exp1.7.4_pretrain_cifar20/cifar20_dFr1.0_nUs10_dir10.00_f1.0_e150_lEp1_s1/fedrs_cnn_l0.05_r0_tBa-1_rAl0.6/dict_users_cr1.pkl\")\n",
    "print(d_new[0] == d_old[1])\n",
    "print(d_new[1] == d_old[2])"
   ]
  }
 ],
 "metadata": {
  "kernelspec": {
   "display_name": "torch",
   "language": "python",
   "name": "python3"
  },
  "language_info": {
   "codemirror_mode": {
    "name": "ipython",
    "version": 3
   },
   "file_extension": ".py",
   "mimetype": "text/x-python",
   "name": "python",
   "nbconvert_exporter": "python",
   "pygments_lexer": "ipython3",
   "version": "3.7.10"
  },
  "orig_nbformat": 4
 },
 "nbformat": 4,
 "nbformat_minor": 2
}
